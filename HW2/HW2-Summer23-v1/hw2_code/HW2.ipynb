{
 "cells": [
  {
   "cell_type": "markdown",
   "metadata": {},
   "source": [
    "# Summer 2023 Applied NLP Homework 2\n",
    "\n",
    "## Instructors: Dr. Mahdi Roozbahani\n",
    "\n",
    "## Deadline: June 16th, 11:59PM AoE"
   ]
  },
  {
   "cell_type": "markdown",
   "metadata": {},
   "source": [
    "## Honor Code and Assignment Deadline\n",
    "<!-- No changes needed on the below section -->\n",
    "* No unapproved extension of the deadline is allowed. Late submission will lead to 0 credit. \n",
    "\n",
    "* Discussion is encouraged on Ed as part of the Q/A. However, all assignments should be done individually.\n",
    "<font color='darkred'>\n",
    "* Plagiarism is a **serious offense**. You are responsible for completing your own work. You are not allowed to copy and paste, or paraphrase, or submit materials created or published by others, as if you created the materials. All materials submitted must be your own.</font>\n",
    "<font color='darkred'>\n",
    "* All incidents of suspected dishonesty, plagiarism, or violations of the Georgia Tech Honor Code will be subject to the institute’s Academic Integrity procedures. If we observe any (even small) similarities/plagiarisms detected by Gradescope or our TAs, **WE WILL DIRECTLY REPORT ALL CASES TO OSI**, which may, unfortunately, lead to a very harsh outcome. **Consequences can be severe, e.g., academic probation or dismissal, grade penalties, a 0 grade for assignments concerned, and prohibition from withdrawing from the class.**\n",
    "</font>\n"
   ]
  },
  {
   "cell_type": "markdown",
   "metadata": {},
   "source": [
    "## Instructions for the assignment \n",
    "\n",
    "<!-- No changes needed on the below section -->\n",
    "- This entire assignment will be autograded through Gradescope.\n",
    "\n",
    "- We provided you different .py files and we added libraries in those files please DO NOT remove those lines and add your code after those lines. Note that these are the only allowed libraries that you can use for the homework.\n",
    "\n",
    "- You will submit your implemented .py files to the corresponding homework section on Gradescope. \n",
    "\n",
    "- You are allowed to make as many submissions until the deadline as you like. Additionally, note that the autograder tests each function separately, therefore it can serve as a useful tool to help you debug your code if you are not sure of what part of your implementation might have an issue.\n"
   ]
  },
  {
   "cell_type": "markdown",
   "metadata": {},
   "source": [
    "## Using the local tests <a id='using_local_tests'></a>\n",
    "- For some of the programming questions we have included a local test using a small toy dataset to aid in debugging. The local test sample data and outputs are stored in .py files in the **local_tests** folder\n",
    "- There are no points associated with passing or failing the local tests, you must still pass the autograder to get points. \n",
    "- **It is possible to fail the local test and pass the autograder** since the autograder has a certain allowed error tolerance while the local test allowed error may be smaller. Likewise, passing the local tests does not guarantee passing the autograder. \n",
    "- **You do not need to pass both local and autograder tests to get points, passing the Gradescope autograder is sufficient for credit.**\n",
    "- It might be helpful to comment out the tests for functions that have not been completed yet. \n",
    "- It is recommended to test the functions as it gets completed instead of completing the whole class and then testing. This may help in isolating errors. Do not solely rely on the local tests, continue to test on the autograder regularly as well. "
   ]
  },
  {
   "cell_type": "markdown",
   "metadata": {},
   "source": [
    "# Google Colab Setup (Optional for running on Colab)\n",
    "You may need to right click on the Applied NLP folder and `Add shortcut to Drive`"
   ]
  },
  {
   "cell_type": "code",
   "execution_count": 2,
   "metadata": {
    "scrolled": true
   },
   "outputs": [
    {
     "ename": "ModuleNotFoundError",
     "evalue": "No module named 'google'",
     "output_type": "error",
     "traceback": [
      "\u001b[0;31m---------------------------------------------------------------------------\u001b[0m",
      "\u001b[0;31mModuleNotFoundError\u001b[0m                       Traceback (most recent call last)",
      "Cell \u001b[0;32mIn[2], line 2\u001b[0m\n\u001b[1;32m      1\u001b[0m \u001b[38;5;66;03m# Mount google drive\u001b[39;00m\n\u001b[0;32m----> 2\u001b[0m \u001b[38;5;28;01mfrom\u001b[39;00m \u001b[38;5;21;01mgoogle\u001b[39;00m\u001b[38;5;21;01m.\u001b[39;00m\u001b[38;5;21;01mcolab\u001b[39;00m \u001b[38;5;28;01mimport\u001b[39;00m drive\n\u001b[1;32m      3\u001b[0m drive\u001b[38;5;241m.\u001b[39mmount(\u001b[38;5;124m'\u001b[39m\u001b[38;5;124m/content/drive/\u001b[39m\u001b[38;5;124m'\u001b[39m)\n\u001b[1;32m      5\u001b[0m \u001b[38;5;66;03m## Change path to directory of where notebook is located\u001b[39;00m\n",
      "\u001b[0;31mModuleNotFoundError\u001b[0m: No module named 'google'"
     ]
    }
   ],
   "source": [
    "# Mount google drive\n",
    "from google.colab import drive\n",
    "drive.mount('/content/drive/')\n",
    "\n",
    "## Change path to directory of where notebook is located\n",
    "%cd '/content/drive/MyDrive/Applied_NLP/HW2/hw2_code/'\n",
    "\n",
    "## If no GPU selected it will ask for GPU to be selected\n",
    "gpu_info = !nvidia-smi\n",
    "gpu_info = '\\n'.join(gpu_info)\n",
    "if gpu_info.find('failed') >= 0:\n",
    "  print('Select the Runtime > \"Change runtime type\" menu to enable a GPU accelerator, ')\n",
    "  print('and then re-execute this cell.')\n",
    "else:\n",
    "  print(gpu_info)\n",
    "\n",
    "\n",
    "## This wraps output text according to the window size\n",
    "from IPython.display import HTML, display\n",
    "\n",
    "def set_css():\n",
    "  display(HTML('''\n",
    "  <style>\n",
    "    pre {\n",
    "        white-space: pre-wrap;\n",
    "    }\n",
    "  </style>\n",
    "  '''))\n",
    "get_ipython().events.register('pre_run_cell', set_css)"
   ]
  },
  {
   "cell_type": "markdown",
   "metadata": {},
   "source": [
    "# Assignment Overview"
   ]
  },
  {
   "cell_type": "markdown",
   "metadata": {},
   "source": [
    "In this homework we will explore more classification algorithms: Logistic Regression, Perceptron, and Support Vector Machine (SVM).\n",
    "\n",
    "We will reuse the datasets from HW1 for this exploration:\n",
    "* The first dataset is a subset of a [Clickbait Dataset](https://github.com/bhargaviparanjape/clickbait/tree/master/dataset) that has article headlines and a binary label on whether the headline is considered clickbait. \n",
    "* The second dataset is a subset of [Web of Science Dataset](https://data.mendeley.com/datasets/9rw3vkcfy4/6) that has articles and a corresponding label on the domain of the articles. \n",
    "\n",
    "After exploring the classification algorithms, we will take a look at dimensionality reduction techniques and word embedding methods such as the co-occurrence embeddings and Global Vectors for Word Representations (GloVe). We will then feed these embeddings to the classification algorithms and compare the results against the Tf-Idf encodings."
   ]
  },
  {
   "cell_type": "markdown",
   "metadata": {},
   "source": [
    "## Deliverables and Points Distribution\n",
    "\n",
    "### Q1: Logistic Regression [16pts]\n",
    "- **1.1 Implementing Logistic Regression from Scratch** [16pts] Deliverables: <font color = 'green'>regression.py</font>\n",
    "\n",
    "    - [1pts] \\__init__\n",
    "\n",
    "    - [3pts] onehot\n",
    "\n",
    "    - [5pts] gradient\n",
    "\n",
    "    - [5pts] gradient_descent\n",
    "    \n",
    "    - [2pts] predict\n",
    "\n",
    "### Q2: Perceptron [11pts]\n",
    "- **2.1 Implementing Perceptron from Scratch** [11pts] Deliverables: <font color = 'green'>perceptron.py</font>\n",
    "\n",
    "    - [1pts] \\__init__\n",
    "\n",
    "    - [3pts] onehot\n",
    "\n",
    "    - [5pts] perceptron\n",
    "\n",
    "    - [2pts] predict\n",
    "\n",
    "### Q3: Support Vector Machine (SVM) [5pts]\n",
    "- **3.1 Implementing SVM using sklearn** [5pts] Deliverables: <font color = 'green'>svm.py</font>\n",
    "\n",
    "    - [1pts] \\__init__ \n",
    "\n",
    "    - [2pts] fit \n",
    "\n",
    "    - [2pts] predict\n",
    "\n",
    "### Q4: Singular Value Decomposition (SVD) [14pts]\n",
    "- **4.1 Dimensionality Reduction using Numpy's SVD** [14pts] Deliverables: <font color = 'green'>svd.py</font>\n",
    "\n",
    "    - [5pts] svd\n",
    "\n",
    "    - [5pts] rebuild_svd\n",
    "\n",
    "    - [2pts] compression_ratio \n",
    "\n",
    "    - [2pts] recovered_variance_proportion\n",
    "\n",
    "### Q5: Global Vectors for Word Representation [5pts]\n",
    "- **5.1 Glove** [5pts] Deliverables: <font color = 'green'>glove.py</font>\n",
    "\n",
    "    - [5pts] transform\n"
   ]
  },
  {
   "cell_type": "markdown",
   "metadata": {
    "id": "XM3Tz32Bxn5X"
   },
   "source": [
    "# Setup\n",
    "This notebook is tested under [python 3. * . *](https://www.python.org/downloads/release/python-368/), and the corresponding packages can be downloaded from [miniconda](https://docs.conda.io/en/latest/miniconda.html). You may also want to get yourself familiar with several packages:\n",
    "\n",
    "- [jupyter notebook](https://jupyter-notebook.readthedocs.io/en/stable/)\n",
    "- [numpy](https://docs.scipy.org/doc/numpy-1.15.1/user/quickstart.html)\n",
    "- [sklearn](https://matplotlib.org/users/pyplot_tutorial.html)\n",
    "\n",
    "In the .py files please implement the functions that have `raise NotImplementedError`, and after you finish the coding, please delete or comment out `raise NotImplementedError`."
   ]
  },
  {
   "cell_type": "markdown",
   "metadata": {},
   "source": [
    "## Library imports"
   ]
  },
  {
   "cell_type": "code",
   "execution_count": 1,
   "metadata": {
    "id": "F-RA4NJLLqW3",
    "scrolled": false
   },
   "outputs": [
    {
     "name": "stdout",
     "output_type": "stream",
     "text": [
      "Version information\n",
      "python: 3.11.3 (main, Apr 19 2023, 18:51:09) [Clang 14.0.6 ]\n",
      "numpy: 1.24.3\n"
     ]
    }
   ],
   "source": [
    "#Import the necessary libraries\n",
    "import pandas as pd\n",
    "import numpy as np\n",
    "import scipy as sp\n",
    "import sys\n",
    "import re\n",
    "from copy import deepcopy\n",
    "from sklearn.metrics import accuracy_score\n",
    "\n",
    "# import gzip\n",
    "\n",
    "%load_ext autoreload\n",
    "%autoreload 2\n",
    "%reload_ext autoreload\n",
    "\n",
    "print('Version information')\n",
    "\n",
    "print('python: {}'.format(sys.version))\n",
    "print('numpy: {}'.format(np.__version__))"
   ]
  },
  {
   "cell_type": "markdown",
   "metadata": {},
   "source": [
    "# Load Dataset"
   ]
  },
  {
   "cell_type": "markdown",
   "metadata": {},
   "source": [
    "We start by loading both data sets already split into an 80/20 train and test set."
   ]
  },
  {
   "cell_type": "code",
   "execution_count": 2,
   "metadata": {},
   "outputs": [],
   "source": [
    "###############################\n",
    "### DO NOT CHANGE THIS CELL ###\n",
    "###############################\n",
    "\n",
    "df_train = pd.read_csv('./data/train.csv')\n",
    "df_test = pd.read_csv('./data/test.csv')\n",
    "\n",
    "# Separate dataframes into train and test lists\n",
    "x_train, y_train = list(df_train['headline']), list(df_train['label'])\n",
    "x_test, y_test = list(df_test['headline']), list(df_test['label'])"
   ]
  },
  {
   "cell_type": "markdown",
   "metadata": {},
   "source": [
    "Below is the number of headlines in the train and test set as well as a sample of the article headlines and its binary label, where 0 is considered not clickbait and 1 is clickbait."
   ]
  },
  {
   "cell_type": "code",
   "execution_count": 3,
   "metadata": {},
   "outputs": [
    {
     "name": "stdout",
     "output_type": "stream",
     "text": [
      "Number of Train Headlines: 19200\n",
      "Number of Test Headlines: 4800\n",
      "\n",
      "\n",
      "Sample Label and Headlines:\n",
      "1: 27 Breathtaking Alternatives To A Traditional Wedding Bouquet <br>\n",
      "\n",
      "1: 22 Pictures People Who Aren't Grad Students Will <strong>Never</strong> Understand\n",
      "\n",
      "0: PepsiCo Profit Falls 43 Percent\n",
      "\n",
      "0: Website of Bill O'Reilly, FOX News commentator, hacked in retribution\n",
      "\n",
      "1: The Green Toy Soldiers From Your Childhood Now Come In Baller Yoga Poses A\n",
      "\n",
      "\n",
      "Output of Sample Headlines without Print Statement:\n"
     ]
    },
    {
     "data": {
      "text/plain": [
       "['27 Breathtaking Alternatives To A Traditional Wedding Bouquet <br>\\n',\n",
       " \"22 Pictures People Who Aren't Grad Students Will <strong>Never</strong> Understand\\n\",\n",
       " 'PepsiCo Profit Falls 43 Percent\\n',\n",
       " \"Website of Bill O'Reilly, FOX News commentator, hacked in retribution\\n\",\n",
       " 'The Green Toy Soldiers From Your Childhood Now Come In Baller Yoga Poses A\\n']"
      ]
     },
     "execution_count": 3,
     "metadata": {},
     "output_type": "execute_result"
    }
   ],
   "source": [
    "###############################\n",
    "### DO NOT CHANGE THIS CELL ###\n",
    "###############################\n",
    "\n",
    "print(f'Number of Train Headlines: {len(x_train)}')\n",
    "print(f'Number of Test Headlines: {len(x_test)}')\n",
    "\n",
    "print('\\n\\nSample Label and Headlines:')\n",
    "x = 105\n",
    "for label, line in zip(y_train[x:x+5], x_train[x:x+5]):\n",
    "    print(f'{label}: {line}')\n",
    "    \n",
    "print('\\nOutput of Sample Headlines without Print Statement:')\n",
    "x_train[x:x+5]"
   ]
  },
  {
   "cell_type": "code",
   "execution_count": 4,
   "metadata": {},
   "outputs": [],
   "source": [
    "###############################\n",
    "### DO NOT CHANGE THIS CELL ###\n",
    "###############################\n",
    "\n",
    "df_train_wos = pd.read_csv('./data/train_wos.csv')\n",
    "df_test_wos = pd.read_csv('./data/test_wos.csv')\n",
    "\n",
    "# Separate dataframes into train and test lists\n",
    "x_train_wos, y_train_wos = list(df_train_wos['article']), list(df_train_wos['label'])\n",
    "x_test_wos, y_test_wos = list(df_test_wos['article']), list(df_test_wos['label'])\n",
    "\n",
    "# Numerical label to domain mapping\n",
    "wos_label = {0:'CS', 1:'ECE', 2:'Civil', 3:'Medical'}\n",
    "# Numerical label to Numerical mapping\n",
    "label_mapping = {0:0, 1:1, 4:2, 5:3}\n",
    "\n",
    "for i, label in enumerate(y_train_wos):\n",
    "    y_train_wos[i] = label_mapping[label]\n",
    "for i, label in enumerate(y_test_wos):\n",
    "    y_test_wos[i] = label_mapping[label]"
   ]
  },
  {
   "cell_type": "code",
   "execution_count": 5,
   "metadata": {},
   "outputs": [
    {
     "name": "stdout",
     "output_type": "stream",
     "text": [
      "Number of Train Articles: 1600\n",
      "Number of Test Articles: 400\n",
      "\n",
      "Label Key: {0: 'CS', 1: 'ECE', 2: 'Civil', 3: 'Medical'}\n",
      "\n",
      "Sample Label and Articles:\n",
      "\n",
      "0 - CS: An efficient procedure for calculating the electromagnetic fields in multilayered cylindrical structures is reported in this paper. Using symbolic computation, spectral Green's functions, suitable for numerical implementations are determined in compact and closed forms. Applications are presented for structures with two dielectric layers.\n",
      "\n",
      "1 - ECE: A multifunctional platform based on the microhotplate was developed for applications including a Pirani vacuum gauge, temperature, and gas sensor. It consisted of a tungsten microhotplate and an on-chip operational amplifier. The platform was fabricated in a standard complementary metal oxide semiconductor (CMOS) process. A tungsten plug in standard CMOS process was specially designed as the serpentine resistor for the microhotplate, acting as both heater and thermister. With the sacrificial layer technology, the microhotplate was suspended over the silicon substrate with a 340 nm gap. The on-chip operational amplifier provided a bias current for the microhotplate. This platform has been used to develop different kinds of sensors. The first one was a Pirani vacuum gauge ranging from 10(-1) to 10(5) Pa. The second one was a temperature sensor ranging from -20 to 70 degrees C. The third one was a thermal-conductivity gas sensor, which could distinguish gases with different thermal conductivities in constant gas pressure and environment temperature. In the fourth application, with extra fabrication processes including the deposition of gas-sensitive film, the platform was used as a metal-oxide gas sensor for the detection of gas concentration.\n",
      "\n",
      "2 - Civil: Artificial neural networks have been effectively used in various civil engineering fields, including construction management and labour productivity. In this study, the performance of the feed forward neural network (FFNN) was compared with radial basis neural network (RBNN) in modelling the productivity of masonry crews. A variety of input factors were incorporated and analysed. Mean absolute percentage error (MAPE) and correlation coefficient (R) were used to evaluate model performance. Research results indicated that the neural computing techniques could be successfully employed in modelling crew productivity. It was also found that successful models could be developed with different combinations of input factors, and several of the models which excluded one or more input factors turned out to be better than the baseline models. Based on the MAPE values obtained for the models, the RBNN technique was found to be better than the FFNN technique, although both slightly overestimated the masons' productivity.\n",
      "\n"
     ]
    }
   ],
   "source": [
    "###############################\n",
    "### DO NOT CHANGE THIS CELL ###\n",
    "###############################\n",
    "\n",
    "print(f'Number of Train Articles: {len(x_train_wos)}')\n",
    "print(f'Number of Test Articles: {len(x_test_wos)}')\n",
    "\n",
    "print('\\nLabel Key:', wos_label)\n",
    "\n",
    "print('\\nSample Label and Articles:\\n')\n",
    "x = 107\n",
    "for label, line in zip(y_train_wos[x:x+3], x_train_wos[x:x+3]):\n",
    "    print(f'{label} - {wos_label[label]}: {line}')"
   ]
  },
  {
   "cell_type": "markdown",
   "metadata": {},
   "source": [
    "## Loading the Dataset Features [No Points]\n",
    "Run the below cell to load the features of the train and test datasets."
   ]
  },
  {
   "cell_type": "code",
   "execution_count": 6,
   "metadata": {},
   "outputs": [],
   "source": [
    "###############################\n",
    "### DO NOT CHANGE THIS CELL ###\n",
    "###############################\n",
    "\n",
    "x_train_tfidf = np.load(\"clickbait_train.npy\")\n",
    "x_train_tfidf_wos = np.load(\"wos_train.npy\")\n",
    "x_test_tfidf = np.load(\"clickbait_test.npy\")\n",
    "x_test_tfidf_wos = np.load(\"wos_test.npy\")"
   ]
  },
  {
   "cell_type": "markdown",
   "metadata": {
    "id": "t2ZBtcpAxtui"
   },
   "source": [
    "# Q1: Logistic Regression [16pts]"
   ]
  },
  {
   "cell_type": "markdown",
   "metadata": {},
   "source": [
    "## 1.1: Implementing Logistic Regression From Scratch [16pts]\n",
    "In the **regression.py** file complete the following functions:\n",
    "  * <strong> __init__ </strong>\n",
    "  * <strong>onehot</strong>\n",
    "  * <strong>gradient</strong>\n",
    "  * <strong>gradient_descent</strong>\n",
    "  * <strong>predict</strong>\n",
    "  \n",
    "We use logistic regression to solve classification problems where the outcome is a discrete variable. Gradient descent is an iterative optimization algorithm, which finds the minimum of a differentiable function. We will be using the softmax function as the hypothesis function in logistic regression and gradient descent for computing weight matrix W.\n",
    "\n",
    "The workflow for computing logistic regression is as follows :\n",
    "1. Calculate the product of data : 𝑋 and weight matrix : 𝑊.\n",
    "2. Take the softmax for each row.\n",
    "3. Take the argmax for each row and find the class with the highest probability.\n",
    "\n",
    "For C classes, the softmax function denotes the probability which is given as :\n",
    "\n",
    "$$\n",
    "P(X_{i}) = \\frac{exp(X_{i})}{\\Sigma_{k=0}^{C}exp(X_{i})}\n",
    "$$\n",
    "\n",
    "And overall loss is denoted as :\n",
    "\n",
    "$$\n",
    "loss = -\\frac{1}{N} \\Sigma_{i=1}^{N}(X_{i}W_{k=Y_{i}} - log\\Sigma_{k=0}^{C}exp(X_{i}W_{k}))\n",
    "$$\n",
    "\n",
    "### Gradient Descent Calculation\n",
    "\n",
    "Use the below update function for calculating gradient descent.\n",
    "\n",
    "$$\n",
    "W = W - lr * gradient\n",
    "$$\n",
    "\n",
    "\n",
    "### Gradient Calculation\n",
    "\n",
    "Use the below derivation for calculating gradients.\n",
    "$$\n",
    "f(W) = loss + regularization\n",
    "$$\n",
    "$$\n",
    "f(W) = -\\frac{1}{N} \\Sigma_{i=1}^{N}(X_{i}W_{k=Y_{i}} - log\\Sigma_{k=0}^{C}exp(X_{i}W_{k})) + \\mu||W||^{2}\n",
    "$$\n",
    "$$\n",
    "\\bigtriangledown_{W_{k}} f(W) = -\\frac{1}{N} \\Sigma_{i=1}^{N}(X_{i}^{T}I_{[Y_{i}=k]} - X_{i}^{T}\\frac{exp(X_{i}W_{k})}{\\Sigma_{k=0}^{C}exp(X_{i}W_{k})}) + 2\\mu W\n",
    "$$\n",
    "$$\n",
    "\\bigtriangledown_{W_{k}} f(W) = -\\frac{1}{N} \\Sigma_{i=1}^{N}(X_{i}^{T}I_{[Y_{i}=k]} - X_{i}^{T}P_{i}) + 2\\mu W\n",
    "$$\n",
    "$$\n",
    "\\bigtriangledown_{W_{k}} f(W) = -\\frac{1}{N} (\\Sigma_{i=1}^{N}X_{i}^{T}I_{[Y_{i}=k]} - \\Sigma_{i=1}^{N}X_{i}^{T}P_{i}) + 2\\mu W\n",
    "$$\n",
    "$$\n",
    "\\bigtriangledown_{W_{k}} f(W) = -\\frac{1}{N} (X^{T}Y_{\\text{onehot encoded}} - X^{T}P) + 2\\mu W\n",
    "$$\n",
    "$$\n",
    "\\bigtriangledown_{W_{k}} f(W) = -\\frac{1}{N} (X^{T}(Y_{\\text{onehot encoded}} - P)) + 2\\mu W\n",
    "$$\n",
    "\n",
    "**Note : $I_{[Y_{i}=k]}$ here represents the onehot encoding of each labels in the samples.**\n"
   ]
  },
  {
   "cell_type": "markdown",
   "metadata": {},
   "source": [
    "## 1.2: Classifying Clickbait Dataset using Logistic Regression [No Points]\n",
    "Run the below cell to classify the Clickbait train and test dataset using the logistic regression functions that you have already implemented in 1.1."
   ]
  },
  {
   "cell_type": "code",
   "execution_count": 7,
   "metadata": {},
   "outputs": [
    {
     "name": "stdout",
     "output_type": "stream",
     "text": [
      "<class 'numpy.ndarray'>\n",
      "Train Accuracy Score for Logistic Regression - Clickbait TF-IDF: 0.9359\n",
      "Test Accuracy Score for Logistic Regression - Clickbait TF-IDF: 0.9179\n"
     ]
    }
   ],
   "source": [
    "###############################\n",
    "### DO NOT CHANGE THIS CELL ###\n",
    "###############################\n",
    "\n",
    "from regression import Regression\n",
    "\n",
    "lr = Regression()\n",
    "print(type(lr.onehot(y_test)))\n",
    "lr.fit(x_train_tfidf, y_train)\n",
    "y_hat = lr.predict(x_train_tfidf)\n",
    "y_hat_test = lr.predict(x_test_tfidf)\n",
    "\n",
    "model = 'Logistic Regression'\n",
    "encoding = 'Clickbait TF-IDF'\n",
    "metric = 'Accuracy Score'\n",
    "\n",
    "clf_train_score = np.where(y_train == y_hat, 1, 0).sum()/len(y_train)\n",
    "clf_test_score = np.where(y_test == y_hat_test, 1, 0).sum()/len(y_test)\n",
    "print('Train {} for {} - {}: {:.4f}'.format(metric, model, encoding, clf_train_score))\n",
    "print('Test {} for {} - {}: {:.4f}'.format(metric, model, encoding, clf_test_score))"
   ]
  },
  {
   "cell_type": "markdown",
   "metadata": {},
   "source": [
    "## 1.3: Classifying Web of Science Dataset using Logistic Regression [No Points]\n",
    "Run the below cell to classify the Web of Science train and test dataset using the logistic regression functions that you have already implemented in 1.1."
   ]
  },
  {
   "cell_type": "code",
   "execution_count": 8,
   "metadata": {},
   "outputs": [
    {
     "name": "stdout",
     "output_type": "stream",
     "text": [
      "Train Accuracy Score for Logistic Regression - wos TF-IDF: 0.7919\n",
      "Test Accuracy Score for Logistic Regression - wos TF-IDF: 0.7525\n"
     ]
    }
   ],
   "source": [
    "###############################\n",
    "### DO NOT CHANGE THIS CELL ###\n",
    "###############################\n",
    "\n",
    "from regression import Regression\n",
    "\n",
    "lr = Regression()\n",
    "lr.fit(x_train_tfidf_wos, y_train_wos)\n",
    "y_hat = lr.predict(x_train_tfidf_wos)\n",
    "y_hat_test = lr.predict(x_test_tfidf_wos)\n",
    "\n",
    "model = 'Logistic Regression'\n",
    "encoding = 'wos TF-IDF'\n",
    "metric = 'Accuracy Score'\n",
    "\n",
    "clf_train_score = np.where(y_train_wos == y_hat, 1, 0).sum()/len(y_train_wos)\n",
    "clf_test_score = np.where(y_test_wos == y_hat_test, 1, 0).sum()/len(y_test_wos)\n",
    "print('Train {} for {} - {}: {:.4f}'.format(metric, model, encoding, clf_train_score))\n",
    "print('Test {} for {} - {}: {:.4f}'.format(metric, model, encoding, clf_test_score))"
   ]
  },
  {
   "cell_type": "markdown",
   "metadata": {
    "id": "XwCQMFCexv0_"
   },
   "source": [
    "# Q2: Perceptron [11pts]"
   ]
  },
  {
   "cell_type": "markdown",
   "metadata": {},
   "source": [
    "## 2.1: Implementing Perceptron From Scratch [11pts]\n",
    "In the **perceptron.py** file complete the following functions:\n",
    "  * <strong>__init__</strong>\n",
    "  * <strong>onehot</strong>\n",
    "  * <strong>perceptron</strong>\n",
    "  * <strong>predict</strong>\n",
    "  \n",
    "We will be implementing a one vs all based perceptron. \n",
    "\n",
    "One vs All strategy splits a multi-class classification into one binary classification problem per class.\n",
    "\n",
    "For eg- If we want to classify Red, Blue and Green\n",
    "\n",
    "**Step 1** : We will create 3 copies of the target array and modify them. We use onehot encoding to help with this task.\n",
    "\n",
    "**Step 2** : In the first copy, we replace all the labels not equal to Red by -1. In the second copy, we replace all labels not equal to Blue by -1 and In the third copy, We replace all labels not equal to Green by -1.\n",
    "\n",
    "**Step 3** : So, we will try to make three different binary classification problems\n",
    "\n",
    "Red vs [Blue, Green]\n",
    "\n",
    "Blue vs [Red, Green]\n",
    "\n",
    "Green vs [Red, Blue]\n",
    "\n",
    "**Note: Please refer to lecture slides for the perceptron algorithm.**"
   ]
  },
  {
   "cell_type": "markdown",
   "metadata": {},
   "source": [
    "## 2.2: Classifying Clickbait Dataset using Perceptron [No Points]\n",
    "Run the below cell to classify the Clickbait train and test dataset using perceptron functions that you have already implemented in 2.1.\n",
    "\n",
    "**NOTE: This step could take upto 20 minutes to run.**"
   ]
  },
  {
   "cell_type": "code",
   "execution_count": 7,
   "metadata": {},
   "outputs": [
    {
     "name": "stdout",
     "output_type": "stream",
     "text": [
      "(19200, 16999) 19200\n"
     ]
    }
   ],
   "source": [
    "print(x_train_tfidf.shape, len(y_train))"
   ]
  },
  {
   "cell_type": "code",
   "execution_count": 38,
   "metadata": {
    "scrolled": false
   },
   "outputs": [
    {
     "name": "stdout",
     "output_type": "stream",
     "text": [
      "Train Accuracy Score for Perceptron - Clickbait TF-IDF: 0.0010\n",
      "Test Accuracy Score for Perceptron - Clickbait TF-IDF: 0.0000\n"
     ]
    }
   ],
   "source": [
    "###############################\n",
    "### DO NOT CHANGE THIS CELL ###\n",
    "###############################\n",
    "\n",
    "from perceptron import Perceptron\n",
    "\n",
    "x_train_tfidf1 = x_train_tfidf[0:1000, :]\n",
    "y_train1 = y_train[0:1000]\n",
    "\n",
    "perceptron = Perceptron()\n",
    "perceptron.fit(x_train_tfidf1, y_train1)\n",
    "y_hat = perceptron.predict(x_train_tfidf1)\n",
    "y_hat_test = perceptron.predict(x_test_tfidf)\n",
    "\n",
    "model = 'Perceptron'\n",
    "encoding = 'Clickbait TF-IDF'\n",
    "metric = 'Accuracy Score'\n",
    "\n",
    "clf_train_score = np.where(y_train1 == y_hat, 1, 0).sum()/len(y_train1)\n",
    "clf_test_score = np.where(y_test == y_hat_test, 1, 0).sum()/len(y_test)\n",
    "print('Train {} for {} - {}: {:.4f}'.format(metric, model, encoding, clf_train_score))\n",
    "print('Test {} for {} - {}: {:.4f}'.format(metric, model, encoding, clf_test_score))"
   ]
  },
  {
   "cell_type": "markdown",
   "metadata": {},
   "source": [
    "## 2.3: Classifying Web of Science Dataset using Perceptron [No Points]\n",
    "Run the below cell to classify the Web of Science train and test dataset using perceptron functions that you have already implemented in 2.1."
   ]
  },
  {
   "cell_type": "code",
   "execution_count": null,
   "metadata": {},
   "outputs": [],
   "source": [
    "###############################\n",
    "### DO NOT CHANGE THIS CELL ###\n",
    "###############################\n",
    "\n",
    "from perceptron import Perceptron\n",
    "\n",
    "perceptron = Perceptron()\n",
    "perceptron.fit(x_train_tfidf_wos, y_train_wos)\n",
    "y_hat = perceptron.predict(x_train_tfidf_wos)\n",
    "y_hat_test = perceptron.predict(x_test_tfidf_wos)\n",
    "\n",
    "model = 'Perceptron'\n",
    "encoding = 'wos TF-IDF'\n",
    "metric = 'Accuracy Score'\n",
    "\n",
    "clf_train_score = np.where(y_train_wos == y_hat, 1, 0).sum()/len(y_train_wos)\n",
    "clf_test_score = np.where(y_test_wos == y_hat_test, 1, 0).sum()/len(y_test_wos)\n",
    "print('Train {} for {} - {}: {:.4f}'.format(metric, model, encoding, clf_train_score))\n",
    "print('Test {} for {} - {}: {:.4f}'.format(metric, model, encoding, clf_test_score))"
   ]
  },
  {
   "cell_type": "markdown",
   "metadata": {
    "id": "q5XvPSTHyIZw"
   },
   "source": [
    "# Q3: Support Vector Machine (SVM) [5pts]"
   ]
  },
  {
   "cell_type": "markdown",
   "metadata": {},
   "source": [
    "## 3.1: Implementing SVM Using sklearn [5pts]\n",
    "In the **svm.py** file complete the following functions:\n",
    "  * <strong>__init__</strong>\n",
    "  * <strong>fit</strong>\n",
    "  * <strong>predict</strong>\n",
    "\n",
    "We will be using sklearn's [SGDClassifier](https://scikit-learn.org/stable/modules/generated/sklearn.linear_model.SGDClassifier.html) using SVM with Hinge Loss.\n",
    "\n",
    "The hinge loss is used for \"maximum-margin\" classification. \n",
    "For an intended output t = ±1 and a classifier score y, the hinge loss of the prediction y is defined as\n",
    "\n",
    "$$\n",
    "l(y) = max(0, 1 - t\\cdot y)\n",
    "$$\n"
   ]
  },
  {
   "cell_type": "markdown",
   "metadata": {},
   "source": [
    "## 3.2: Classifying Clickbait Dataset using SVM [No Points]\n",
    "Run the below cell to classify the Clickbait train and test dataset using SVM functions that you have already implemented in 3.1. "
   ]
  },
  {
   "cell_type": "code",
   "execution_count": 20,
   "metadata": {},
   "outputs": [
    {
     "name": "stdout",
     "output_type": "stream",
     "text": [
      "Train Accuracy Score for SVM - Clickbait TF-IDF: 0.9803\n",
      "Test Accuracy Score for SVM - Clickbait TF-IDF: 0.9500\n"
     ]
    }
   ],
   "source": [
    "###############################\n",
    "### DO NOT CHANGE THIS CELL ###\n",
    "###############################\n",
    "\n",
    "from svm import SVM\n",
    "\n",
    "svm = SVM()\n",
    "svm.fit(x_train_tfidf, y_train)\n",
    "y_hat = svm.predict(x_train_tfidf)\n",
    "y_hat_test = svm.predict(x_test_tfidf)\n",
    "\n",
    "model = 'SVM'\n",
    "encoding = 'Clickbait TF-IDF'\n",
    "metric = 'Accuracy Score'\n",
    "\n",
    "clf_train_score = np.where(y_train == y_hat, 1, 0).sum()/len(y_train)\n",
    "clf_test_score = np.where(y_test == y_hat_test, 1, 0).sum()/len(y_test)\n",
    "print('Train {} for {} - {}: {:.4f}'.format(metric, model, encoding, clf_train_score))\n",
    "print('Test {} for {} - {}: {:.4f}'.format(metric, model, encoding, clf_test_score))\n"
   ]
  },
  {
   "cell_type": "markdown",
   "metadata": {},
   "source": [
    "## 3.3: Classifying Web of Science Dataset using SVM [No Points]\n",
    "Run the below cell to classify the Web of Science train and test dataset using SVM functions that you have already implemented in 3.1. "
   ]
  },
  {
   "cell_type": "code",
   "execution_count": 21,
   "metadata": {
    "scrolled": true
   },
   "outputs": [
    {
     "name": "stdout",
     "output_type": "stream",
     "text": [
      "Train Accuracy Score for SVM - wos TF-IDF: 0.9988\n",
      "Test Accuracy Score for SVM - wos TF-IDF: 0.8125\n"
     ]
    }
   ],
   "source": [
    "###############################\n",
    "### DO NOT CHANGE THIS CELL ###\n",
    "###############################\n",
    "\n",
    "from svm import SVM\n",
    "\n",
    "svm = SVM()\n",
    "svm.fit(x_train_tfidf_wos, y_train_wos)\n",
    "y_hat = svm.predict(x_train_tfidf_wos)\n",
    "y_hat_test = svm.predict(x_test_tfidf_wos)\n",
    "\n",
    "model = 'SVM'\n",
    "encoding = 'wos TF-IDF'\n",
    "metric = 'Accuracy Score'\n",
    "\n",
    "clf_train_score = np.where(y_train_wos == y_hat, 1, 0).sum()/len(y_train_wos)\n",
    "clf_test_score = np.where(y_test_wos == y_hat_test, 1, 0).sum()/len(y_test_wos)\n",
    "print('Train {} for {} - {}: {:.4f}'.format(metric, model, encoding, clf_train_score))\n",
    "print('Test {} for {} - {}: {:.4f}'.format(metric, model, encoding, clf_test_score))"
   ]
  },
  {
   "cell_type": "markdown",
   "metadata": {},
   "source": [
    "# Q4: Singular Value Decomposition (SVD) [14pts]"
   ]
  },
  {
   "cell_type": "markdown",
   "metadata": {},
   "source": [
    "## 4.1: Implementing Dimensionality Reduction using Numpy's SVD [14pts]\n",
    "\n",
    "SVD is a dimensionality reduction technique that allows us to compress information (features) by throwing away the least important information.  \n",
    "\n",
    "Higher singular values capture greater variance and, thus, capture greater information from the corresponding singular vector. Apply SVD on TFIDF vector representations and get rid of the small singular values. The loss of information through this process is negligible, and the difference in the accuracy is very minimal. \n",
    "\n",
    "For example, the proportion of variance captured by the first component is $$\\frac{\\sigma_1^2}{\\sum_{i=1}^n \\sigma_i^2}$$ where $\\sigma_i$ is the $i^{th}$ singular value.\n",
    "\n",
    "In the <strong>svd.py</strong> file, complete the following functions:\n",
    "  * <strong>svd</strong>: You may use <samp>np.linalg.svd</samp> in this function, and although the function defaults this parameter to true, you may explicitly set <samp>full_matrices=True</samp> using the optional <samp>full_matrices</samp> parameter. Hint 2 may be useful.\n",
    "  * <strong>rebuild_svd</strong>\n",
    "  * <strong>compression_ratio</strong>: Hint 1 may be useful\n",
    "  * <strong>recovered_variance_proportion</strong>: Hint 1 may be useful\n",
    "\n",
    "**Hint 1:** http://timbaumann.info/svd-image-compression-demo/ is a useful article on image compression and compression ratio. You may find this article useful for implementing the functions compression_ratio and recovered_variance_proportion. **Note: relate the image compression task here to our dataset.**\n",
    "\n",
    "**Hint 2:** If you have never used <samp>np.linalg.svd</samp>, it might be helpful to read [Numpy's SVD documentation](https://numpy.org/doc/stable/reference/generated/numpy.linalg.svd.html) and note the particularities of the V matrix and that it is returned already transposed. \n",
    "\n",
    "**Hint 3:** The shape of S resulting from SVD may change depending on if N>D, N<D, or N=D. Therefore, when checking the shape of S, note that min(N,D) means the value should be equal to whichever is lower between N and D.   "
   ]
  },
  {
   "cell_type": "markdown",
   "metadata": {},
   "source": [
    "## 4.2: Visualizing SVD compression vs Accuracy curve  [No Points]\n",
    "\n",
    "Run the below cell to classify the Web of Science train and test dataset with various components for SVD using functions that you have already implemented in 4.1. We will be using SVM functions implemented in 3.1 to compare accuracies with compression ratio.\n",
    "\n",
    "Observe how accuracy, compression ratio and recovered variance changes with increasing components.\n",
    "\n",
    "This demonstrates that with a small preservation of the components, we are able to achieve competitive results on the test set. Therefore, we can store less amount of data and still achieve better performances on classification."
   ]
  },
  {
   "cell_type": "code",
   "execution_count": 22,
   "metadata": {},
   "outputs": [
    {
     "name": "stdout",
     "output_type": "stream",
     "text": [
      "(1600, 16999)\n",
      "(160, 16999)\n"
     ]
    }
   ],
   "source": [
    "###############################\n",
    "### DO NOT CHANGE THIS CELL ###\n",
    "###############################\n",
    "# This cell may take some time to run\n",
    "from svd import SVD\n",
    "from svm import SVM\n",
    "import matplotlib.pyplot as plt\n",
    "\n",
    "print(x_train_tfidf_wos.shape)\n",
    "x_train_tfidf_wos_test = x_train_tfidf_wos[0:160]\n",
    "print(x_train_tfidf_wos_test.shape)\n",
    "\n",
    "svd = SVD()\n",
    "U, S, V = svd.svd(x_train_tfidf_wos)\n",
    "component_num = [10,20,50,100,200,400,800,1200,1600]\n",
    "compression_ratio = []\n",
    "recovered_variance = []\n",
    "train_accuracy = []\n",
    "test_accuracy = []\n",
    "\n",
    "for k in component_num:\n",
    "    data_rebuild = svd.rebuild_svd(U, S, V, k)\n",
    "    c = np.around(svd.compression_ratio(x_train_tfidf_wos, k), 4)\n",
    "    r = np.around(svd.recovered_variance_proportion(S, k), 3)\n",
    "    svm = SVM()\n",
    "    svm.fit(data_rebuild, y_train_wos)\n",
    "    y_hat = svm.predict(data_rebuild)\n",
    "    y_hat_test = svm.predict(x_test_tfidf_wos)\n",
    "    clf_train_score = np.where(y_train_wos == y_hat, 1, 0).sum()/len(y_train_wos)\n",
    "    clf_test_score = np.where(y_test_wos == y_hat_test, 1, 0).sum()/len(y_test_wos)\n",
    "    \n",
    "    compression_ratio.append(c)\n",
    "    recovered_variance.append(r)\n",
    "    train_accuracy.append(clf_train_score)\n",
    "    test_accuracy.append(clf_test_score)\n"
   ]
  },
  {
   "cell_type": "code",
   "execution_count": 23,
   "metadata": {},
   "outputs": [
    {
     "data": {
      "image/png": "[encoded data removed]",
      "text/plain": [
       "<Figure size 640x480 with 1 Axes>"
      ]
     },
     "metadata": {},
     "output_type": "display_data"
    }
   ],
   "source": [
    "###############################\n",
    "### DO NOT CHANGE THIS CELL ###\n",
    "###############################\n",
    "\n",
    "\n",
    "plt.plot(component_num, compression_ratio, label = \"Compression Ratio\")\n",
    "plt.plot(component_num, recovered_variance, label = \"Recovered Variance\")\n",
    "plt.plot(component_num, train_accuracy, label = \"Train Accuracy\")\n",
    "plt.plot(component_num, test_accuracy, label = \"Test Accuracy\")\n",
    "plt.legend()\n",
    "plt.xlabel('components')\n",
    "plt.ylabel('metric')\n",
    "plt.show()"
   ]
  },
  {
   "cell_type": "markdown",
   "metadata": {},
   "source": [
    "# Q5: Global Vectors for Word Representations (GloVe) [5pts]"
   ]
  },
  {
   "cell_type": "markdown",
   "metadata": {},
   "source": [
    "## 5.1: GloVe [5pts]\n",
    "\n",
    "Word embeddings are a type of word representation that allows words with similar meaning to have a similar representation. The Global Vectors for Word Representation, or GloVe, algorithm is an extension to the word2vec method for efficiently learning word vectors, developed by Pennington, et al. at Stanford. GloVe is an unsupervised learning algorithm for obtaining vector representations for words. Training is performed on aggregated global word-word co-occurrence statistics from a corpus, and the resulting representations showcase interesting linear substructures of the word vector space. \n",
    "\n",
    "We will be using the provided **glove.6B.50d.txt** file for loading the pre-trained embeddings for the vocabulary. You will be transforming the Web of Science data to glove embeddings by taking the mean of the glove embeddings of all words in a sentence.\n",
    "\n",
    "In the **glove.py** file complete the following function:\n",
    "  * <strong>transform</strong>\n",
    "  \n",
    "Here is an example of taking the mean of the glove embeddings.\n",
    "\n",
    "For the sentence : 'I love NLP Homework',\n",
    "\n",
    "**Step-1** : We find the embeddings to each word using the provided glove model. Here using **glove.6B.50d.txt**, we get the embeddings of each word : I, love, NLP, Homework separately. All of them are a vector of shape (50,).\n",
    "\n",
    "**Step-2** : We stack these embeddings and transform it to a numpy array. After this step, we get a shape of : (4,50) because there are 4 words (tokens) in the sentence.\n",
    "\n",
    "**Step-3** : Next, we will be taking a mean of this array along the 0th dimension. We get the shape as : (1,50). This is the final glove embeddings for our sentence which can be used for further classification tasks.\n",
    "\n",
    "Let us take a look at the glove embeddings for few words and their visualization in a 2D space."
   ]
  },
  {
   "cell_type": "code",
   "execution_count": 1,
   "metadata": {},
   "outputs": [
    {
     "name": "stdout",
     "output_type": "stream",
     "text": [
      "Version information\n",
      "python: 3.11.3 (main, Apr 19 2023, 18:51:09) [Clang 14.0.6 ]\n",
      "numpy: 1.24.3\n"
     ]
    }
   ],
   "source": [
    "#Import the necessary libraries\n",
    "import pandas as pd\n",
    "import numpy as np\n",
    "import scipy as sp\n",
    "import sys\n",
    "import re\n",
    "from copy import deepcopy\n",
    "from sklearn.metrics import accuracy_score\n",
    "\n",
    "# import gzip\n",
    "\n",
    "%load_ext autoreload\n",
    "%autoreload 2\n",
    "%reload_ext autoreload\n",
    "\n",
    "print('Version information')\n",
    "\n",
    "print('python: {}'.format(sys.version))\n",
    "print('numpy: {}'.format(np.__version__))"
   ]
  },
  {
   "cell_type": "code",
   "execution_count": 2,
   "metadata": {},
   "outputs": [],
   "source": [
    "df_train = pd.read_csv('./data/train.csv')\n",
    "df_test = pd.read_csv('./data/test.csv')\n",
    "\n",
    "# Separate dataframes into train and test lists\n",
    "x_train, y_train = list(df_train['headline']), list(df_train['label'])\n",
    "x_test, y_test = list(df_test['headline']), list(df_test['label'])"
   ]
  },
  {
   "cell_type": "code",
   "execution_count": 3,
   "metadata": {},
   "outputs": [
    {
     "name": "stdout",
     "output_type": "stream",
     "text": [
      "Loading Glove Model\n",
      "400000 words loaded!\n",
      "Similar words for Tree : ['tree', 'trees', 'pine', 'flower', 'green', 'leaf', 'oak', 'chestnut', 'cedar', 'bark']\n",
      "Similar words for King + Queen + Prince : ['king', 'prince', 'queen', 'throne', 'princess', 'son', 'emperor', 'royal', 'daughter', 'father']\n"
     ]
    }
   ],
   "source": [
    "###############################\n",
    "### DO NOT CHANGE THIS CELL ###\n",
    "###############################\n",
    "\n",
    "\n",
    "from glove import Glove\n",
    "\n",
    "#Loads the glove model\n",
    "gv = Glove()\n",
    "gloveModel = gv.load_glove_model()\n",
    "print('Similar words for Tree : {}'.format(gv.find_similar_word(gloveModel, gloveModel['tree'])[0:10]))\n",
    "print('Similar words for King + Queen + Prince : {}'.format(\n",
    "    gv.find_similar_word(gloveModel, gloveModel['king'] + gloveModel['queen'] + gloveModel['prince'])[0:10]))"
   ]
  },
  {
   "cell_type": "code",
   "execution_count": null,
   "metadata": {},
   "outputs": [],
   "source": [
    "###############################\n",
    "### DO NOT CHANGE THIS CELL ###\n",
    "###############################\n",
    "\n",
    "from sklearn.manifold import TSNE\n",
    "import matplotlib.pyplot as plt\n",
    "import warnings\n",
    "warnings.filterwarnings('ignore')\n",
    "\n",
    "distri = TSNE(n_components=2)\n",
    "words = list(gloveModel.keys())\n",
    "vectors = [gloveModel[word] for word in words]\n",
    "y = distri.fit_transform(np.array(vectors[100:300]))\n",
    "plt.figure(figsize=(14,8))\n",
    "plt.scatter(y[:, 0],y[:,1])\n",
    "for label,x,y in zip(words,y[:, 0],y[:,1]):\n",
    "    plt.annotate(label,xy=(x,y),xytext=(0,0),textcoords='offset points')\n",
    "plt.show()"
   ]
  },
  {
   "cell_type": "markdown",
   "metadata": {},
   "source": [
    "### 5.1.1 Local Tests for GloVe Functions [No Points]\n",
    "You may test your implementation of the functions contained in **glove.py** in the cell below. Feel free to comment out tests for functions that have not been completed yet. See [Using the Local Tests](#using_local_tests) for more details."
   ]
  },
  {
   "cell_type": "code",
   "execution_count": 12,
   "metadata": {},
   "outputs": [
    {
     "name": "stdout",
     "output_type": "stream",
     "text": [
      "Local Tests for Glove Functions \n",
      "\n",
      "(5, 50)\n",
      "[[ 1.17603133e-01 -2.08896667e-02  2.35267267e-02 -9.66676667e-02\n",
      "   4.11194000e-01  2.56400867e-01 -6.38856067e-01 -7.48936000e-02\n",
      "  -2.18407349e-01  5.71913333e-02 -5.59660000e-02  3.42094667e-02\n",
      "  -3.16496400e-01  1.28134533e-01  2.75028967e-01 -1.86913000e-01\n",
      "  -3.15257133e-01  1.50669000e-01 -4.20276000e-01 -2.56484667e-01\n",
      "   7.91337333e-02  3.04568933e-01 -9.13709333e-02 -4.37357333e-02\n",
      "   2.12897600e-01 -1.75638993e+00 -2.63296533e-01  8.78212667e-02\n",
      "   6.98343333e-02 -1.44182000e-01  2.88498000e+00 -2.48870333e-01\n",
      "  -1.44542933e-01 -1.59650400e-01 -1.26600180e-02  6.59035933e-02\n",
      "   1.21144000e-01  1.30584933e-01  6.48301933e-02 -2.27258733e-01\n",
      "   1.26566533e-01  2.45004067e-01 -3.19323733e-01  1.83896667e-01\n",
      "   3.78673333e-02 -8.85994667e-02 -2.08125407e-01 -2.41323333e-01\n",
      "   5.70852000e-02 -8.43422000e-02]\n",
      " [ 2.71529729e-01  2.32244000e-01  3.94111000e-01 -2.79072857e-02\n",
      "   3.66869143e-01  2.72981429e-01 -3.22244143e-01 -9.66112571e-02\n",
      "   5.59840000e-02 -1.68570314e-01  1.28075571e-01  2.95726286e-01\n",
      "   2.27480000e-02 -1.23840429e-01  4.52201286e-01  2.73133429e-01\n",
      "   2.33664286e-01 -2.99357143e-01 -1.27178571e-01 -5.53280714e-01\n",
      "  -2.21528571e-02 -2.23031857e-01  6.65598571e-01  3.26873286e-01\n",
      "   1.08350000e-01 -1.53939571e+00 -2.67632857e-01 -4.01111429e-01\n",
      "   4.35446286e-01 -6.03578857e-01  3.46194286e+00  2.64015986e-01\n",
      "  -3.82554286e-01 -6.89642857e-01  1.01735714e-01 -1.57229429e-01\n",
      "   1.34244714e-01  9.57764286e-02 -1.80340000e-01 -2.31811429e-01\n",
      "  -1.32062857e-02 -1.67748857e-01  6.40670000e-01  8.94128571e-02\n",
      "   1.33390286e-01  4.25555714e-01 -1.58371429e-01 -3.56585714e-02\n",
      "  -1.60847000e-01  2.67695571e-01]\n",
      " [-5.34426357e-02 -2.02262857e-02 -4.16297714e-02  1.65952857e-01\n",
      "   4.28427857e-01 -1.57508271e-01 -2.59385429e-01 -6.13247857e-01\n",
      "  -9.94695714e-02  1.00397143e-02  3.06966571e-01 -5.45393714e-01\n",
      "  -3.27577143e-01 -4.26392857e-01  3.58538714e-01  2.78233714e-01\n",
      "  -4.57782000e-01 -5.88505571e-01 -5.96297214e-01  1.05213714e-01\n",
      "   8.15888571e-01 -2.97455286e-01  5.79510000e-02 -4.70468857e-01\n",
      "  -3.33037143e-01 -1.17464286e+00 -9.20042857e-02 -1.62263143e-01\n",
      "  -2.82655714e-02  5.95884857e-01  3.38655714e+00 -6.32108571e-02\n",
      "   1.59272286e-01 -6.28317143e-01 -8.11929143e-02 -6.86151229e-01\n",
      "  -3.56058714e-01 -7.65591429e-02  2.59071000e-01  8.01562857e-02\n",
      "  -7.55230000e-01 -1.95409600e-01  2.05833857e-01 -2.74105429e-01\n",
      "   6.80042857e-03 -1.67326571e-01  1.15204571e-01  1.34001286e-01\n",
      "   3.55982143e-01 -1.14822571e-01]\n",
      " [ 1.68485556e-01  8.72301111e-02  3.88855556e-02  2.48098556e-01\n",
      "   1.08581111e-01  1.50081222e-02 -3.86481111e-01 -3.18233333e-01\n",
      "  -1.30736111e-01 -1.29641667e-01 -2.20994333e-01  2.84420000e-02\n",
      "  -3.89433333e-01  9.18281111e-02  4.27674444e-01  7.21372222e-02\n",
      "   9.15811111e-02  1.27960000e-02 -2.03711222e-01 -3.35724889e-01\n",
      "   1.59061000e-01  3.13438889e-01  4.52077889e-01  5.69215556e-02\n",
      "   2.13643333e-01 -1.28737000e+00 -4.79022667e-01  1.54688889e-02\n",
      "   1.35430778e-01 -2.53985889e-01  3.29337222e+00  3.61038778e-01\n",
      "  -5.02284444e-04 -3.49236333e-01 -6.32933333e-02  2.96156267e-01\n",
      "  -5.94415556e-02  1.12191911e-01 -1.47219444e-01  8.13097778e-02\n",
      "  -1.63923444e-01  3.28088333e-01  8.73555000e-02  1.33741444e-01\n",
      "   5.91277778e-03  1.90257222e-01 -2.42578222e-01  1.11996444e-01\n",
      "  -6.55133333e-03 -1.08074444e-01]\n",
      " [ 1.49634600e-01  1.48274230e-01  6.40463300e-02 -7.41019000e-02\n",
      "   5.76411000e-01  4.51080000e-03 -5.16689000e-01 -1.54223770e-01\n",
      "  -1.18657223e-01  7.56420000e-02 -3.53170000e-02  1.05305500e-01\n",
      "  -2.12702600e-01 -8.92162000e-02  6.99107050e-01  1.51970800e-01\n",
      "   9.71991000e-02  1.93752200e-01 -1.72859900e-01 -4.48914500e-01\n",
      "   7.59034000e-02  5.55719100e-01  4.23960700e-01  1.30808500e-01\n",
      "   3.52482600e-01 -1.32017200e+00 -2.76070100e-01  3.19201000e-02\n",
      "   2.75319700e-01 -4.10237700e-01  2.50900700e+00  4.91181900e-01\n",
      "  -3.29522560e-01 -1.68097800e-01 -1.12639027e-01  3.08932900e-02\n",
      "  -1.67860000e-01  8.15623000e-02  1.43855900e-01 -1.78570300e-01\n",
      "  -4.19670000e-02  1.64705800e-01  1.20256800e-01 -1.17700000e-04\n",
      "   1.15338154e-01  2.67070000e-01 -2.96536310e-01 -3.19112000e-01\n",
      "  -6.64190000e-02 -1.75606800e-01]]\n",
      "Your transform works as expected: False\n"
     ]
    }
   ],
   "source": [
    "###############################\n",
    "### DO NOT CHANGE THIS CELL ###\n",
    "###############################\n",
    "\n",
    "from glove import Glove\n",
    "from local_tests.glove_test import Glove_Test\n",
    "\n",
    "test_gv = Glove_Test()\n",
    "\n",
    "print('Local Tests for Glove Functions \\n')\n",
    "# Local test for transfrom\n",
    "#output = gv.transform(gloveModel, ['I love NLP Homework'])\n",
    "output = gv.transform(gloveModel, test)\n",
    "\n",
    "#print(gloveModel['homework'])\n",
    "print(output)\n",
    "#print(test_gv.mean_embedding_test)\n",
    "\n",
    "embeddings = np.all(np.array(output) == test_gv.mean_embedding_test)\n",
    "print('Your transform works as expected:', embeddings)"
   ]
  },
  {
   "cell_type": "markdown",
   "metadata": {},
   "source": [
    "## 5.2: SVM Classification using GLoVe embeddings [No Points]\n",
    "\n",
    "Run the below cell to classify the Clickbait train and test dataset using SVM functions with SVM that you have already implemented in 3.1 using glove embeddings that you have implemented in 5.1. "
   ]
  },
  {
   "cell_type": "code",
   "execution_count": 5,
   "metadata": {},
   "outputs": [
    {
     "name": "stderr",
     "output_type": "stream",
     "text": [
      "/Users/nickdinapoli/anaconda3/envs/nlp_hw2/lib/python3.11/site-packages/numpy/core/fromnumeric.py:3464: RuntimeWarning: Mean of empty slice.\n",
      "  return _methods._mean(a, axis=axis, dtype=dtype,\n",
      "/Users/nickdinapoli/anaconda3/envs/nlp_hw2/lib/python3.11/site-packages/numpy/core/_methods.py:192: RuntimeWarning: invalid value encountered in scalar divide\n",
      "  ret = ret.dtype.type(ret / rcount)\n"
     ]
    },
    {
     "ename": "ValueError",
     "evalue": "setting an array element with a sequence. The requested array has an inhomogeneous shape after 1 dimensions. The detected shape was (19200,) + inhomogeneous part.",
     "output_type": "error",
     "traceback": [
      "\u001b[0;31m---------------------------------------------------------------------------\u001b[0m",
      "\u001b[0;31mValueError\u001b[0m                                Traceback (most recent call last)",
      "Cell \u001b[0;32mIn[5], line 7\u001b[0m\n\u001b[1;32m      1\u001b[0m \u001b[38;5;66;03m###############################\u001b[39;00m\n\u001b[1;32m      2\u001b[0m \u001b[38;5;66;03m### DO NOT CHANGE THIS CELL ###\u001b[39;00m\n\u001b[1;32m      3\u001b[0m \u001b[38;5;66;03m###############################\u001b[39;00m\n\u001b[1;32m      5\u001b[0m \u001b[38;5;28;01mfrom\u001b[39;00m \u001b[38;5;21;01msvm\u001b[39;00m \u001b[38;5;28;01mimport\u001b[39;00m SVM\n\u001b[0;32m----> 7\u001b[0m embeddings_train \u001b[38;5;241m=\u001b[39m gv\u001b[38;5;241m.\u001b[39mtransform(gloveModel, \u001b[38;5;28mlist\u001b[39m(df_train[\u001b[38;5;124m'\u001b[39m\u001b[38;5;124mheadline\u001b[39m\u001b[38;5;124m'\u001b[39m]))\n\u001b[1;32m      8\u001b[0m embeddings_test \u001b[38;5;241m=\u001b[39m gv\u001b[38;5;241m.\u001b[39mtransform(gloveModel, \u001b[38;5;28mlist\u001b[39m(df_test[\u001b[38;5;124m'\u001b[39m\u001b[38;5;124mheadline\u001b[39m\u001b[38;5;124m'\u001b[39m]))\n\u001b[1;32m     10\u001b[0m svm \u001b[38;5;241m=\u001b[39m SVM()\n",
      "File \u001b[0;32m~/Documents/Georgia_Tech/CSE 8803/HW2/HW2-Summer23-v1/hw2_code/glove.py:103\u001b[0m, in \u001b[0;36mGlove.transform\u001b[0;34m(self, model, data, dimension)\u001b[0m\n\u001b[1;32m     86\u001b[0m     \u001b[38;5;66;03m#embeddings.append(sen_embed)\u001b[39;00m\n\u001b[1;32m     87\u001b[0m \n\u001b[1;32m     88\u001b[0m \u001b[38;5;66;03m#embeddings = np.asarray(embeddings)\u001b[39;00m\n\u001b[1;32m     89\u001b[0m \u001b[38;5;66;03m#print(embeddings.shape)\u001b[39;00m\n\u001b[1;32m     90\u001b[0m \u001b[38;5;66;03m#transformed_features = np.mean(embeddings, axis=1)\u001b[39;00m\n\u001b[1;32m     91\u001b[0m \u001b[38;5;250m\u001b[39m\u001b[38;5;124;03m'''\u001b[39;00m\n\u001b[1;32m     92\u001b[0m \u001b[38;5;124;03mtransformed_features = []\u001b[39;00m\n\u001b[1;32m     93\u001b[0m \u001b[38;5;124;03mfor n in range(len(data)):\u001b[39;00m\n\u001b[0;32m   (...)\u001b[0m\n\u001b[1;32m    100\u001b[0m \u001b[38;5;124;03m    transformed_features[i] = np.mean(sen_embed, axis=0)\u001b[39;00m\n\u001b[1;32m    101\u001b[0m \u001b[38;5;124;03m'''\u001b[39;00m\n\u001b[0;32m--> 103\u001b[0m transformed_features \u001b[38;5;241m=\u001b[39m np\u001b[38;5;241m.\u001b[39masarray(embeddings)\n\u001b[1;32m    104\u001b[0m \u001b[38;5;66;03m#print(transformed_features.shape)\u001b[39;00m\n\u001b[1;32m    105\u001b[0m \u001b[38;5;28;01mreturn\u001b[39;00m transformed_features\n",
      "\u001b[0;31mValueError\u001b[0m: setting an array element with a sequence. The requested array has an inhomogeneous shape after 1 dimensions. The detected shape was (19200,) + inhomogeneous part."
     ]
    }
   ],
   "source": [
    "###############################\n",
    "### DO NOT CHANGE THIS CELL ###\n",
    "###############################\n",
    "\n",
    "from svm import SVM\n",
    "\n",
    "embeddings_train = gv.transform(gloveModel, list(df_train['headline']))\n",
    "embeddings_test = gv.transform(gloveModel, list(df_test['headline']))\n",
    "\n",
    "svm = SVM()\n",
    "svm.fit(embeddings_train, y_train)\n",
    "y_hat = svm.predict(embeddings_train)\n",
    "y_hat_test = svm.predict(embeddings_test)\n",
    "\n",
    "clf_train_score = np.where(y_train == y_hat, 1, 0).sum()/len(y_train)\n",
    "clf_test_score = np.where(y_test == y_hat_test, 1, 0).sum()/len(y_test)\n",
    "\n",
    "model = 'SVM'\n",
    "encoding = 'wos GloVE'\n",
    "metric = 'Accuracy Score'\n",
    "\n",
    "print('Train {} for {} - {}: {:.4f}'.format(metric, model, encoding, clf_train_score))\n",
    "print('Test {} for {} - {}: {:.4f}'.format(metric, model, encoding, clf_test_score))"
   ]
  },
  {
   "cell_type": "code",
   "execution_count": 11,
   "metadata": {},
   "outputs": [],
   "source": [
    "test = list(df_train['headline'])[0:5]"
   ]
  },
  {
   "cell_type": "code",
   "execution_count": null,
   "metadata": {},
   "outputs": [],
   "source": []
  }
 ],
 "metadata": {
  "colab": {
   "name": "HW1.ipynb",
   "provenance": []
  },
  "kernelspec": {
   "display_name": "Python 3 (ipykernel)",
   "language": "python",
   "name": "python3"
  },
  "language_info": {
   "codemirror_mode": {
    "name": "ipython",
    "version": 3
   },
   "file_extension": ".py",
   "mimetype": "text/x-python",
   "name": "python",
   "nbconvert_exporter": "python",
   "pygments_lexer": "ipython3",
   "version": "3.11.3"
  }
 },
 "nbformat": 4,
 "nbformat_minor": 1
}
